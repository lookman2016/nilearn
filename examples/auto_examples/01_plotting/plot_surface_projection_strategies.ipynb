{
  "cells": [
    {
      "cell_type": "code",
      "execution_count": null,
      "metadata": {
        "collapsed": false
      },
      "outputs": [],
      "source": [
        "%matplotlib inline"
      ]
    },
    {
      "cell_type": "markdown",
      "metadata": {},
      "source": [
        "\nTechnical point: Illustration of the volume to surface sampling schemes\n=======================================================================\n\nIn nilearn, :func:`nilearn.surface.vol_to_surf` allows us to measure values of\na 3d volume at the nodes of a cortical mesh, transforming it into surface data.\nThis data can then be plotted with :func:`nilearn.plotting.plot_surf_stat_map`\nfor example.\n\nThis script shows, on a toy example, where samples are drawn around each mesh\nvertex. Image values are interpolated at each sample location, then these\nsamples are averaged to produce a value for the vertex.\n\nTwo strategies are available to choose sample locations: they can be spread\nalong the normal to the mesh, or inside a ball around the vertex. Don't worry\ntoo much about choosing one or the other: they take a similar amount of time\nand give almost identical results for most images.\n"
      ]
    },
    {
      "cell_type": "code",
      "execution_count": null,
      "metadata": {
        "collapsed": false
      },
      "outputs": [],
      "source": [
        "import numpy as np\n\nimport matplotlib\nfrom matplotlib import pyplot as plt\nfrom mpl_toolkits.mplot3d import Axes3D\n\nfrom nilearn.surface import surface\nfrom nilearn.plotting import show"
      ]
    },
    {
      "cell_type": "markdown",
      "metadata": {},
      "source": [
        "Build a mesh (of a cylinder)\n#####################################################################\n\n"
      ]
    },
    {
      "cell_type": "code",
      "execution_count": null,
      "metadata": {
        "collapsed": false
      },
      "outputs": [],
      "source": [
        "N_Z = 5\nN_T = 10\nu, v = np.mgrid[:N_T, :N_Z]\ntriangulation = matplotlib.tri.Triangulation(u.flatten(), v.flatten())\nangles = u.flatten() * 2 * np.pi / N_T\nx, y = np.cos(angles), np.sin(angles)\nz = v.flatten() * 2 / N_Z\n\nmesh = [np.asarray([x, y, z]).T, triangulation.triangles]"
      ]
    },
    {
      "cell_type": "markdown",
      "metadata": {},
      "source": [
        "Get the locations from which vol_to_surf would draw its samples\n########################################################################\n\n"
      ]
    },
    {
      "cell_type": "code",
      "execution_count": null,
      "metadata": {
        "collapsed": false
      },
      "outputs": [],
      "source": [
        "line_sample_points = surface._line_sample_locations(\n    mesh, np.eye(4), segment_half_width=.2, n_points=6)\n\nball_sample_points = surface._ball_sample_locations(\n    mesh, np.eye(4), ball_radius=.15, n_points=20)"
      ]
    },
    {
      "cell_type": "markdown",
      "metadata": {},
      "source": [
        "Plot the mesh and the sample locations\n#####################################################################\n\n"
      ]
    },
    {
      "cell_type": "code",
      "execution_count": null,
      "metadata": {
        "collapsed": false
      },
      "outputs": [],
      "source": [
        "for sample_points in [line_sample_points, ball_sample_points]:\n    fig = plt.figure()\n    ax = plt.subplot(projection='3d')\n\n    ax.plot_trisurf(x, y, z, triangles=triangulation.triangles)\n\n    ax.scatter(*sample_points.T, color='r')\n\nshow()"
      ]
    }
  ],
  "metadata": {
    "kernelspec": {
      "display_name": "Python 3",
      "language": "python",
      "name": "python3"
    },
    "language_info": {
      "codemirror_mode": {
        "name": "ipython",
        "version": 3
      },
      "file_extension": ".py",
      "mimetype": "text/x-python",
      "name": "python",
      "nbconvert_exporter": "python",
      "pygments_lexer": "ipython3",
      "version": "3.7.6"
    }
  },
  "nbformat": 4,
  "nbformat_minor": 0
}