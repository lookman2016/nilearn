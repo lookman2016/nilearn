{
  "cells": [
    {
      "cell_type": "code",
      "execution_count": null,
      "metadata": {
        "collapsed": false
      },
      "outputs": [],
      "source": [
        "%matplotlib inline"
      ]
    },
    {
      "cell_type": "markdown",
      "metadata": {},
      "source": [
        "\nSpaceNet on Jimura et al \"mixed gambles\" dataset.\n==================================================\n\nThe segmenting power of SpaceNet is quite visible here.\n\nSee also the SpaceNet documentation: `space_net`.\n"
      ]
    },
    {
      "cell_type": "code",
      "execution_count": null,
      "metadata": {
        "collapsed": false
      },
      "outputs": [],
      "source": [
        "# author: DOHMATOB Elvis Dopgima,\n#         GRAMFORT Alexandre"
      ]
    },
    {
      "cell_type": "markdown",
      "metadata": {},
      "source": [
        "Load the data from the Jimura mixed-gamble experiment\n------------------------------------------------------\n\n"
      ]
    },
    {
      "cell_type": "code",
      "execution_count": null,
      "metadata": {
        "collapsed": false
      },
      "outputs": [],
      "source": [
        "from nilearn.datasets import fetch_mixed_gambles\ndata = fetch_mixed_gambles(n_subjects=16)\n\nzmap_filenames = data.zmaps\nbehavioral_target = data.gain\nmask_filename = data.mask_img"
      ]
    },
    {
      "cell_type": "markdown",
      "metadata": {},
      "source": [
        "Fit TV-L1\n----------\nHere we're using the regressor object given that the task is to predict a\ncontinuous variable, the gain of the gamble.\n\n"
      ]
    },
    {
      "cell_type": "code",
      "execution_count": null,
      "metadata": {
        "collapsed": false
      },
      "outputs": [],
      "source": [
        "from nilearn.decoding import SpaceNetRegressor\ndecoder = SpaceNetRegressor(mask=mask_filename, penalty=\"tv-l1\",\n                            eps=1e-1,  # prefer large alphas\n                            memory=\"nilearn_cache\")\n\ndecoder.fit(zmap_filenames, behavioral_target)\n\n# Visualize TV-L1 weights\n# ------------------------\nfrom nilearn.plotting import plot_stat_map, show\nplot_stat_map(decoder.coef_img_, title=\"tv-l1\", display_mode=\"yz\",\n              cut_coords=[20, -2])"
      ]
    },
    {
      "cell_type": "markdown",
      "metadata": {},
      "source": [
        "Fit Graph-Net\n--------------\n\n"
      ]
    },
    {
      "cell_type": "code",
      "execution_count": null,
      "metadata": {
        "collapsed": false
      },
      "outputs": [],
      "source": [
        "decoder = SpaceNetRegressor(mask=mask_filename, penalty=\"graph-net\",\n                            eps=1e-1,  # prefer large alphas\n                            memory=\"nilearn_cache\")\ndecoder.fit(zmap_filenames, behavioral_target)\n\n# Visualize Graph-Net weights\n# ----------------------------\nplot_stat_map(decoder.coef_img_, title=\"graph-net\", display_mode=\"yz\",\n              cut_coords=[20, -2])\n\nshow()"
      ]
    }
  ],
  "metadata": {
    "kernelspec": {
      "display_name": "Python 3",
      "language": "python",
      "name": "python3"
    },
    "language_info": {
      "codemirror_mode": {
        "name": "ipython",
        "version": 3
      },
      "file_extension": ".py",
      "mimetype": "text/x-python",
      "name": "python",
      "nbconvert_exporter": "python",
      "pygments_lexer": "ipython3",
      "version": "3.7.6"
    }
  },
  "nbformat": 4,
  "nbformat_minor": 0
}