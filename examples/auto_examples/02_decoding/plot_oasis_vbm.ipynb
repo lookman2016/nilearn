{
  "cells": [
    {
      "cell_type": "code",
      "execution_count": null,
      "metadata": {
        "collapsed": false
      },
      "outputs": [],
      "source": [
        "%matplotlib inline"
      ]
    },
    {
      "cell_type": "markdown",
      "metadata": {},
      "source": [
        "\nVoxel-Based Morphometry on Oasis dataset\n========================================\n\nThis example uses Voxel-Based Morphometry (VBM) to study the relationship\nbetween aging and gray matter density.\n\nThe data come from the `OASIS <http://www.oasis-brains.org/>`_ project.\nIf you use it, you need to agree with the data usage agreement available\non the website.\n\nIt has been run through a standard VBM pipeline (using SPM8 and\nNewSegment) to create VBM maps, which we study here.\n\nPredictive modeling analysis: VBM bio-markers of aging?\n--------------------------------------------------------\n\nWe run a standard SVM-ANOVA nilearn pipeline to predict age from the VBM\ndata. We use only 100 subjects from the OASIS dataset to limit the memory\nusage.\n\nNote that for an actual predictive modeling study of aging, the study\nshould be ran on the full set of subjects. Also, parameters such as the\nsmoothing applied to the data and the number of features selected by the\nAnova step should be set by nested cross-validation, as they impact\nsignificantly the prediction score.\n\nBrain mapping with mass univariate\n-----------------------------------\n\nSVM weights are very noisy, partly because heavy smoothing is detrimental\nfor the prediction here. A standard analysis using mass-univariate GLM\n(here permuted to have exact correction for multiple comparisons) gives a\nmuch clearer view of the important regions.\n\n____\n"
      ]
    },
    {
      "cell_type": "code",
      "execution_count": null,
      "metadata": {
        "collapsed": false
      },
      "outputs": [],
      "source": [
        "# Authors: Elvis Dhomatob, <elvis.dohmatob@inria.fr>, Apr. 2014\n#          Virgile Fritsch, <virgile.fritsch@inria.fr>, Apr 2014\n#          Gael Varoquaux, Apr 2014\nimport numpy as np\nimport matplotlib.pyplot as plt\nfrom nilearn import datasets\nfrom nilearn.input_data import NiftiMasker\nfrom nilearn.image import get_data\n\nn_subjects = 100  # more subjects requires more memory"
      ]
    },
    {
      "cell_type": "markdown",
      "metadata": {},
      "source": [
        "Load Oasis dataset\n-------------------\n\n"
      ]
    },
    {
      "cell_type": "code",
      "execution_count": null,
      "metadata": {
        "collapsed": false
      },
      "outputs": [],
      "source": [
        "oasis_dataset = datasets.fetch_oasis_vbm(n_subjects=n_subjects)\ngray_matter_map_filenames = oasis_dataset.gray_matter_maps\nage = oasis_dataset.ext_vars['age'].astype(float)\n\n# print basic information on the dataset\nprint('First gray-matter anatomy image (3D) is located at: %s' %\n      oasis_dataset.gray_matter_maps[0])  # 3D data\nprint('First white-matter anatomy image (3D) is located at: %s' %\n      oasis_dataset.white_matter_maps[0])  # 3D data"
      ]
    },
    {
      "cell_type": "markdown",
      "metadata": {},
      "source": [
        "Preprocess data\n----------------\n\n"
      ]
    },
    {
      "cell_type": "code",
      "execution_count": null,
      "metadata": {
        "collapsed": false
      },
      "outputs": [],
      "source": [
        "nifti_masker = NiftiMasker(\n    standardize=False,\n    smoothing_fwhm=2,\n    memory='nilearn_cache')  # cache options\ngm_maps_masked = nifti_masker.fit_transform(gray_matter_map_filenames)\nn_samples, n_features = gm_maps_masked.shape\nprint(\"%d samples, %d features\" % (n_subjects, n_features))"
      ]
    },
    {
      "cell_type": "markdown",
      "metadata": {},
      "source": [
        "Prediction pipeline with ANOVA and SVR\n---------------------------------------\n\n"
      ]
    },
    {
      "cell_type": "code",
      "execution_count": null,
      "metadata": {
        "collapsed": false
      },
      "outputs": [],
      "source": [
        "print(\"ANOVA + SVR\")\n# Define the prediction function to be used.\n# Here we use a Support Vector Classification, with a linear kernel\nfrom sklearn.svm import SVR\nsvr = SVR(kernel='linear')\n\n# Dimension reduction\nfrom sklearn.feature_selection import VarianceThreshold, SelectKBest, \\\n        f_regression\n\n# Remove features with too low between-subject variance\nvariance_threshold = VarianceThreshold(threshold=.01)\n\n# Here we use a classical univariate feature selection based on F-test,\n# namely Anova.\nfeature_selection = SelectKBest(f_regression, k=2000)\n\n# We have our predictor (SVR), our feature selection (SelectKBest), and now,\n# we can plug them together in a *pipeline* that performs the two operations\n# successively:\nfrom sklearn.pipeline import Pipeline\nanova_svr = Pipeline([\n            ('variance_threshold', variance_threshold),\n            ('anova', feature_selection),\n            ('svr', svr)])\n\n### Fit and predict\nanova_svr.fit(gm_maps_masked, age)\nage_pred = anova_svr.predict(gm_maps_masked)"
      ]
    },
    {
      "cell_type": "markdown",
      "metadata": {},
      "source": [
        "Visualization\n--------------\nLook at the SVR's discriminating weights\n\n"
      ]
    },
    {
      "cell_type": "code",
      "execution_count": null,
      "metadata": {
        "collapsed": false
      },
      "outputs": [],
      "source": [
        "coef = svr.coef_\n# reverse feature selection\ncoef = feature_selection.inverse_transform(coef)\n# reverse variance threshold\ncoef = variance_threshold.inverse_transform(coef)\n# reverse masking\nweight_img = nifti_masker.inverse_transform(coef)\n\n# Create the figure\nfrom nilearn.plotting import plot_stat_map, show\nbg_filename = gray_matter_map_filenames[0]\nz_slice = 0\n\n\nfig = plt.figure(figsize=(5.5, 7.5), facecolor='k')\n# Hard setting vmax to highlight weights more\ndisplay = plot_stat_map(weight_img, bg_img=bg_filename,\n                        display_mode='z', cut_coords=[z_slice],\n                        figure=fig, vmax=1)\ndisplay.title('SVM weights', y=1.2)\n\n# Measure accuracy with cross validation\nfrom sklearn.model_selection import cross_val_score\ncv_scores = cross_val_score(anova_svr, gm_maps_masked, age)\n\n# Return the corresponding mean prediction accuracy\nprediction_accuracy = np.mean(cv_scores)\nprint(\"=== ANOVA ===\")\nprint(\"Prediction accuracy: %f\" % prediction_accuracy)\nprint(\"\")\n\n### Inference with massively univariate model #################################\nprint(\"Massively univariate model\")\n\n# Statistical inference\nfrom nilearn.mass_univariate import permuted_ols\ndata = variance_threshold.fit_transform(gm_maps_masked)\nneg_log_pvals, t_scores_original_data, _ = permuted_ols(\n    age, data,  # + intercept as a covariate by default\n    n_perm=2000,  # 1,000 in the interest of time; 10000 would be better\n    n_jobs=1)  # can be changed to use more CPUs\nsigned_neg_log_pvals = neg_log_pvals * np.sign(t_scores_original_data)\nsigned_neg_log_pvals_unmasked = nifti_masker.inverse_transform(\n    variance_threshold.inverse_transform(signed_neg_log_pvals))\n\n# Show results\nthreshold = -np.log10(0.1)  # 10% corrected\n\nfig = plt.figure(figsize=(5.5, 7.5), facecolor='k')\n\ndisplay = plot_stat_map(signed_neg_log_pvals_unmasked, bg_img=bg_filename,\n                        threshold=threshold, cmap=plt.cm.RdBu_r,\n                        display_mode='z', cut_coords=[z_slice],\n                        figure=fig)\ntitle = ('Negative $\\log_{10}$ p-values'\n         '\\n(Non-parametric + max-type correction)')\ndisplay.title(title, y=1.2)\n\nn_detections = (get_data(signed_neg_log_pvals_unmasked) > threshold).sum()\nprint('\\n%d detections' % n_detections)\n\nshow()"
      ]
    }
  ],
  "metadata": {
    "kernelspec": {
      "display_name": "Python 3",
      "language": "python",
      "name": "python3"
    },
    "language_info": {
      "codemirror_mode": {
        "name": "ipython",
        "version": 3
      },
      "file_extension": ".py",
      "mimetype": "text/x-python",
      "name": "python",
      "nbconvert_exporter": "python",
      "pygments_lexer": "ipython3",
      "version": "3.7.6"
    }
  },
  "nbformat": 4,
  "nbformat_minor": 0
}